{
 "cells": [
  {
   "cell_type": "markdown",
   "source": [
    "# Factory design pattern\n",
    "The pattern delegates the creation of object to a 3rd-party class.\n",
    "In the example below, the `RentalCompany` acts as the 3rd-party and help the customer to rent (or create, under the hood) a car or a jet.\n",
    "The benefits is that the customer only need to deal with the middle man and send request to him, instead of knowing how to instantiate each type of object."
   ],
   "metadata": {}
  },
  {
   "cell_type": "code",
   "execution_count": 1,
   "source": [
    "class Car:\n",
    "    \n",
    "    def run():\n",
    "        pass    \n",
    "\n",
    "class Jet:\n",
    "    \n",
    "    def fly():\n",
    "        pass\n",
    "\n",
    "class RentalCompany:\n",
    "    \n",
    "    def rent(name):\n",
    "        if name == \"car\":\n",
    "            return Car()\n",
    "        elif name == \"jet\":\n",
    "            return Jet()"
   ],
   "outputs": [],
   "metadata": {}
  },
  {
   "cell_type": "markdown",
   "source": [
    "#### An actual example of factory design pattern in stantad library\n",
    "To be found."
   ],
   "metadata": {}
  },
  {
   "cell_type": "markdown",
   "source": [],
   "metadata": {}
  }
 ],
 "metadata": {
  "orig_nbformat": 4,
  "language_info": {
   "name": "python",
   "version": "3.9.6",
   "mimetype": "text/x-python",
   "codemirror_mode": {
    "name": "ipython",
    "version": 3
   },
   "pygments_lexer": "ipython3",
   "nbconvert_exporter": "python",
   "file_extension": ".py"
  },
  "kernelspec": {
   "name": "python3",
   "display_name": "Python 3.9.6 64-bit"
  },
  "interpreter": {
   "hash": "b0fa6594d8f4cbf19f97940f81e996739fb7646882a419484c72d19e05852a7e"
  }
 },
 "nbformat": 4,
 "nbformat_minor": 2
}