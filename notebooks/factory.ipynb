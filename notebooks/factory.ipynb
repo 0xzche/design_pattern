{
 "cells": [
  {
   "cell_type": "code",
   "execution_count": null,
   "source": [
    "# Factory design pattern\n",
    "\n"
   ],
   "outputs": [],
   "metadata": {}
  },
  {
   "cell_type": "code",
   "execution_count": null,
   "source": [
    "class Car:\n",
    "    \n",
    "    def start():\n",
    "        pass\n",
    "    \n",
    "    def stop():\n",
    "        pass\n",
    "\n",
    "class Jet:\n",
    "    \n",
    "    def take_off():\n",
    "        pass\n",
    "\n",
    "    def land():\n",
    "        pass\n",
    "    \n",
    "class RentalCompany:\n",
    "    \n",
    "    def rent(name):\n",
    "        if name == \"car\":\n",
    "            return Car()\n",
    "        elif name == \"jet\":\n",
    "            return Jet()\n",
    "        else:\n",
    "            raise NotImplementedError()"
   ],
   "outputs": [],
   "metadata": {}
  }
 ],
 "metadata": {
  "orig_nbformat": 4,
  "language_info": {
   "name": "python"
  }
 },
 "nbformat": 4,
 "nbformat_minor": 2
}